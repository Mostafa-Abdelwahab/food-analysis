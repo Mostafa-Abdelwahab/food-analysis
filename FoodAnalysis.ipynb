{
  "nbformat": 4,
  "nbformat_minor": 0,
  "metadata": {
    "colab": {
      "provenance": [],
      "include_colab_link": true
    },
    "kernelspec": {
      "name": "python3",
      "display_name": "Python 3"
    },
    "language_info": {
      "name": "python"
    }
  },
  "cells": [
    {
      "cell_type": "markdown",
      "metadata": {
        "id": "view-in-github",
        "colab_type": "text"
      },
      "source": [
        "<a href=\"https://colab.research.google.com/github/Mostafa-Abdelwahab/food-analysis/blob/main/FoodAnalysis.ipynb\" target=\"_parent\"><img src=\"https://colab.research.google.com/assets/colab-badge.svg\" alt=\"Open In Colab\"/></a>"
      ]
    },
    {
      "cell_type": "code",
      "metadata": {
        "id": "3GA2pAdBgpcw"
      },
      "source": [
        "import pandas as pd\n",
        "import numpy as np\n",
        "import matplotlib.pyplot as plt\n",
        "import scipy.stats"
      ],
      "execution_count": null,
      "outputs": []
    },
    {
      "cell_type": "markdown",
      "metadata": {
        "id": "9WCOPXsSQmd3"
      },
      "source": [
        "### 1)Data Aquisition:"
      ]
    },
    {
      "cell_type": "code",
      "metadata": {
        "colab": {
          "base_uri": "https://localhost:8080/",
          "height": 790
        },
        "id": "Q5Zz8eofhdLF",
        "outputId": "568e98d9-051f-4013-84ba-904a56a69c42"
      },
      "source": [
        "##reading csv file\n",
        "food_df = pd.read_csv('/content/Food_Preference.csv')\n",
        "food_df"
      ],
      "execution_count": null,
      "outputs": [
        {
          "output_type": "execute_result",
          "data": {
            "text/html": [
              "<div>\n",
              "<style scoped>\n",
              "    .dataframe tbody tr th:only-of-type {\n",
              "        vertical-align: middle;\n",
              "    }\n",
              "\n",
              "    .dataframe tbody tr th {\n",
              "        vertical-align: top;\n",
              "    }\n",
              "\n",
              "    .dataframe thead th {\n",
              "        text-align: right;\n",
              "    }\n",
              "</style>\n",
              "<table border=\"1\" class=\"dataframe\">\n",
              "  <thead>\n",
              "    <tr style=\"text-align: right;\">\n",
              "      <th></th>\n",
              "      <th>Timestamp</th>\n",
              "      <th>Participant_ID</th>\n",
              "      <th>Gender</th>\n",
              "      <th>Nationality</th>\n",
              "      <th>Age</th>\n",
              "      <th>Food</th>\n",
              "      <th>Juice</th>\n",
              "      <th>Dessert</th>\n",
              "    </tr>\n",
              "  </thead>\n",
              "  <tbody>\n",
              "    <tr>\n",
              "      <th>0</th>\n",
              "      <td>2019/05/07 2:59:13 PM GMT+8</td>\n",
              "      <td>FPS001</td>\n",
              "      <td>Male</td>\n",
              "      <td>Indian</td>\n",
              "      <td>24</td>\n",
              "      <td>Traditional food</td>\n",
              "      <td>Fresh Juice</td>\n",
              "      <td>Maybe</td>\n",
              "    </tr>\n",
              "    <tr>\n",
              "      <th>1</th>\n",
              "      <td>2019/05/07 2:59:45 PM GMT+8</td>\n",
              "      <td>FPS002</td>\n",
              "      <td>Female</td>\n",
              "      <td>Indian</td>\n",
              "      <td>22</td>\n",
              "      <td>Western Food</td>\n",
              "      <td>Carbonated drinks</td>\n",
              "      <td>Yes</td>\n",
              "    </tr>\n",
              "    <tr>\n",
              "      <th>2</th>\n",
              "      <td>2019/05/07 3:00:05 PM GMT+8</td>\n",
              "      <td>FPS003</td>\n",
              "      <td>Male</td>\n",
              "      <td>Indian</td>\n",
              "      <td>31</td>\n",
              "      <td>Western Food</td>\n",
              "      <td>Fresh Juice</td>\n",
              "      <td>Maybe</td>\n",
              "    </tr>\n",
              "    <tr>\n",
              "      <th>3</th>\n",
              "      <td>2019/05/07 3:00:11 PM GMT+8</td>\n",
              "      <td>FPS004</td>\n",
              "      <td>Female</td>\n",
              "      <td>Indian</td>\n",
              "      <td>25</td>\n",
              "      <td>Traditional food</td>\n",
              "      <td>Fresh Juice</td>\n",
              "      <td>Maybe</td>\n",
              "    </tr>\n",
              "    <tr>\n",
              "      <th>4</th>\n",
              "      <td>2019/05/07 3:02:50 PM GMT+8</td>\n",
              "      <td>FPS005</td>\n",
              "      <td>Male</td>\n",
              "      <td>Indian</td>\n",
              "      <td>27</td>\n",
              "      <td>Traditional food</td>\n",
              "      <td>Fresh Juice</td>\n",
              "      <td>Maybe</td>\n",
              "    </tr>\n",
              "    <tr>\n",
              "      <th>...</th>\n",
              "      <td>...</td>\n",
              "      <td>...</td>\n",
              "      <td>...</td>\n",
              "      <td>...</td>\n",
              "      <td>...</td>\n",
              "      <td>...</td>\n",
              "      <td>...</td>\n",
              "      <td>...</td>\n",
              "    </tr>\n",
              "    <tr>\n",
              "      <th>283</th>\n",
              "      <td>2019/05/10 9:24:00 AM GMT+8</td>\n",
              "      <td>FPS284</td>\n",
              "      <td>Male</td>\n",
              "      <td>Indian</td>\n",
              "      <td>27</td>\n",
              "      <td>Western Food</td>\n",
              "      <td>Fresh Juice</td>\n",
              "      <td>Yes</td>\n",
              "    </tr>\n",
              "    <tr>\n",
              "      <th>284</th>\n",
              "      <td>2019/05/10 9:32:54 AM GMT+8</td>\n",
              "      <td>FPS285</td>\n",
              "      <td>Male</td>\n",
              "      <td>Indian</td>\n",
              "      <td>24</td>\n",
              "      <td>Traditional food</td>\n",
              "      <td>Fresh Juice</td>\n",
              "      <td>Yes</td>\n",
              "    </tr>\n",
              "    <tr>\n",
              "      <th>285</th>\n",
              "      <td>2019/05/10 12:09:17 PM GMT+8</td>\n",
              "      <td>FPS286</td>\n",
              "      <td>Male</td>\n",
              "      <td>Indian</td>\n",
              "      <td>25</td>\n",
              "      <td>Traditional food</td>\n",
              "      <td>Fresh Juice</td>\n",
              "      <td>Yes</td>\n",
              "    </tr>\n",
              "    <tr>\n",
              "      <th>286</th>\n",
              "      <td>2019/05/10 12:52:17 PM GMT+8</td>\n",
              "      <td>FPS287</td>\n",
              "      <td>Male</td>\n",
              "      <td>Indian</td>\n",
              "      <td>27</td>\n",
              "      <td>Traditional food</td>\n",
              "      <td>Fresh Juice</td>\n",
              "      <td>Yes</td>\n",
              "    </tr>\n",
              "    <tr>\n",
              "      <th>287</th>\n",
              "      <td>2019/05/10 12:55:42 PM GMT+8</td>\n",
              "      <td>FPS288</td>\n",
              "      <td>Male</td>\n",
              "      <td>Indian</td>\n",
              "      <td>27</td>\n",
              "      <td>Traditional food</td>\n",
              "      <td>Fresh Juice</td>\n",
              "      <td>No</td>\n",
              "    </tr>\n",
              "  </tbody>\n",
              "</table>\n",
              "<p>288 rows × 8 columns</p>\n",
              "</div>"
            ],
            "text/plain": [
              "                        Timestamp Participant_ID  ...              Juice Dessert\n",
              "0     2019/05/07 2:59:13 PM GMT+8         FPS001  ...        Fresh Juice   Maybe\n",
              "1     2019/05/07 2:59:45 PM GMT+8         FPS002  ...  Carbonated drinks     Yes\n",
              "2     2019/05/07 3:00:05 PM GMT+8         FPS003  ...        Fresh Juice   Maybe\n",
              "3     2019/05/07 3:00:11 PM GMT+8         FPS004  ...        Fresh Juice   Maybe\n",
              "4     2019/05/07 3:02:50 PM GMT+8         FPS005  ...        Fresh Juice   Maybe\n",
              "..                            ...            ...  ...                ...     ...\n",
              "283   2019/05/10 9:24:00 AM GMT+8         FPS284  ...        Fresh Juice     Yes\n",
              "284   2019/05/10 9:32:54 AM GMT+8         FPS285  ...        Fresh Juice     Yes\n",
              "285  2019/05/10 12:09:17 PM GMT+8         FPS286  ...        Fresh Juice     Yes\n",
              "286  2019/05/10 12:52:17 PM GMT+8         FPS287  ...        Fresh Juice     Yes\n",
              "287  2019/05/10 12:55:42 PM GMT+8         FPS288  ...        Fresh Juice      No\n",
              "\n",
              "[288 rows x 8 columns]"
            ]
          },
          "metadata": {},
          "execution_count": 184
        }
      ]
    },
    {
      "cell_type": "code",
      "metadata": {
        "colab": {
          "base_uri": "https://localhost:8080/"
        },
        "id": "4sgEhbyqhnO1",
        "outputId": "cce05aba-f09c-4b8d-a870-aae7642e0ea7"
      },
      "source": [
        "## counting nulls values\n",
        "checking_nulls = food_df.isnull().sum().sum()\n",
        "checking_nulls"
      ],
      "execution_count": null,
      "outputs": [
        {
          "output_type": "execute_result",
          "data": {
            "text/plain": [
              "4"
            ]
          },
          "metadata": {},
          "execution_count": 202
        }
      ]
    },
    {
      "cell_type": "code",
      "metadata": {
        "colab": {
          "base_uri": "https://localhost:8080/"
        },
        "id": "K2duBdPZirAB",
        "outputId": "29d9b267-434b-448e-fa45-cfba0f618775"
      },
      "source": [
        "## calculating the dataset size\n",
        "checking_size = food_df.size\n",
        "checking_size"
      ],
      "execution_count": null,
      "outputs": [
        {
          "output_type": "execute_result",
          "data": {
            "text/plain": [
              "2304"
            ]
          },
          "metadata": {},
          "execution_count": 186
        }
      ]
    },
    {
      "cell_type": "code",
      "metadata": {
        "colab": {
          "base_uri": "https://localhost:8080/"
        },
        "id": "duYfYRIXjAAS",
        "outputId": "f241cb03-ff72-445f-a51c-082e77ba68d1"
      },
      "source": [
        "## calculating the percentage of nulls in the dataset\n",
        "checking_percentage = (checking_nulls/checking_size)*100\n",
        "checking_percentage"
      ],
      "execution_count": null,
      "outputs": [
        {
          "output_type": "execute_result",
          "data": {
            "text/plain": [
              "0.1736111111111111"
            ]
          },
          "metadata": {},
          "execution_count": 187
        }
      ]
    },
    {
      "cell_type": "code",
      "metadata": {
        "colab": {
          "base_uri": "https://localhost:8080/"
        },
        "id": "UXt2imPajf5I",
        "outputId": "a48eab54-10f9-4ac3-f6de-50933a2d04a5"
      },
      "source": [
        "##printing each column and how many nulls are in it\n",
        "checking_nulls_each = food_df.isnull().sum()\n",
        "checking_nulls_each"
      ],
      "execution_count": null,
      "outputs": [
        {
          "output_type": "execute_result",
          "data": {
            "text/plain": [
              "Timestamp         0\n",
              "Participant_ID    0\n",
              "Gender            4\n",
              "Nationality       0\n",
              "Age               0\n",
              "Food              0\n",
              "Juice             0\n",
              "Dessert           0\n",
              "dtype: int64"
            ]
          },
          "metadata": {},
          "execution_count": 188
        }
      ]
    },
    {
      "cell_type": "code",
      "metadata": {
        "colab": {
          "base_uri": "https://localhost:8080/"
        },
        "id": "dTj-IfShjvbY",
        "outputId": "af61809b-08d8-464f-c3e6-a45bb97868e3"
      },
      "source": [
        "##checking the data types of the dataset's columns\n",
        "checking_types = food_df.dtypes\n",
        "checking_types"
      ],
      "execution_count": null,
      "outputs": [
        {
          "output_type": "execute_result",
          "data": {
            "text/plain": [
              "Timestamp         object\n",
              "Participant_ID    object\n",
              "Gender            object\n",
              "Nationality       object\n",
              "Age                int64\n",
              "Food              object\n",
              "Juice             object\n",
              "Dessert           object\n",
              "dtype: object"
            ]
          },
          "metadata": {},
          "execution_count": 189
        }
      ]
    },
    {
      "cell_type": "markdown",
      "metadata": {
        "id": "Rrv-4gfPRahm"
      },
      "source": [
        "### 2)Data Prepatation:"
      ]
    },
    {
      "cell_type": "code",
      "metadata": {
        "colab": {
          "base_uri": "https://localhost:8080/",
          "height": 423
        },
        "id": "pFOLUvzFj3CJ",
        "outputId": "e8a89230-4b65-4c6d-e577-74347f363ebf"
      },
      "source": [
        "##picking the columns for the analysis\n",
        "choosing_cols = pd.read_csv('/content/Food_Preference.csv' , usecols=['Gender','Food'])\n",
        "choosing_cols"
      ],
      "execution_count": null,
      "outputs": [
        {
          "output_type": "execute_result",
          "data": {
            "text/html": [
              "<div>\n",
              "<style scoped>\n",
              "    .dataframe tbody tr th:only-of-type {\n",
              "        vertical-align: middle;\n",
              "    }\n",
              "\n",
              "    .dataframe tbody tr th {\n",
              "        vertical-align: top;\n",
              "    }\n",
              "\n",
              "    .dataframe thead th {\n",
              "        text-align: right;\n",
              "    }\n",
              "</style>\n",
              "<table border=\"1\" class=\"dataframe\">\n",
              "  <thead>\n",
              "    <tr style=\"text-align: right;\">\n",
              "      <th></th>\n",
              "      <th>Gender</th>\n",
              "      <th>Food</th>\n",
              "    </tr>\n",
              "  </thead>\n",
              "  <tbody>\n",
              "    <tr>\n",
              "      <th>0</th>\n",
              "      <td>Male</td>\n",
              "      <td>Traditional food</td>\n",
              "    </tr>\n",
              "    <tr>\n",
              "      <th>1</th>\n",
              "      <td>Female</td>\n",
              "      <td>Western Food</td>\n",
              "    </tr>\n",
              "    <tr>\n",
              "      <th>2</th>\n",
              "      <td>Male</td>\n",
              "      <td>Western Food</td>\n",
              "    </tr>\n",
              "    <tr>\n",
              "      <th>3</th>\n",
              "      <td>Female</td>\n",
              "      <td>Traditional food</td>\n",
              "    </tr>\n",
              "    <tr>\n",
              "      <th>4</th>\n",
              "      <td>Male</td>\n",
              "      <td>Traditional food</td>\n",
              "    </tr>\n",
              "    <tr>\n",
              "      <th>...</th>\n",
              "      <td>...</td>\n",
              "      <td>...</td>\n",
              "    </tr>\n",
              "    <tr>\n",
              "      <th>283</th>\n",
              "      <td>Male</td>\n",
              "      <td>Western Food</td>\n",
              "    </tr>\n",
              "    <tr>\n",
              "      <th>284</th>\n",
              "      <td>Male</td>\n",
              "      <td>Traditional food</td>\n",
              "    </tr>\n",
              "    <tr>\n",
              "      <th>285</th>\n",
              "      <td>Male</td>\n",
              "      <td>Traditional food</td>\n",
              "    </tr>\n",
              "    <tr>\n",
              "      <th>286</th>\n",
              "      <td>Male</td>\n",
              "      <td>Traditional food</td>\n",
              "    </tr>\n",
              "    <tr>\n",
              "      <th>287</th>\n",
              "      <td>Male</td>\n",
              "      <td>Traditional food</td>\n",
              "    </tr>\n",
              "  </tbody>\n",
              "</table>\n",
              "<p>288 rows × 2 columns</p>\n",
              "</div>"
            ],
            "text/plain": [
              "     Gender              Food\n",
              "0      Male  Traditional food\n",
              "1    Female      Western Food\n",
              "2      Male      Western Food\n",
              "3    Female  Traditional food\n",
              "4      Male  Traditional food\n",
              "..      ...               ...\n",
              "283    Male      Western Food\n",
              "284    Male  Traditional food\n",
              "285    Male  Traditional food\n",
              "286    Male  Traditional food\n",
              "287    Male  Traditional food\n",
              "\n",
              "[288 rows x 2 columns]"
            ]
          },
          "metadata": {},
          "execution_count": 190
        }
      ]
    },
    {
      "cell_type": "code",
      "metadata": {
        "colab": {
          "base_uri": "https://localhost:8080/"
        },
        "id": "eULMdsuRlngK",
        "outputId": "6403e0cb-28de-4c88-9b40-29145c229146"
      },
      "source": [
        "##checking the unique values inside of the gender column\n",
        "uniquevalues = choosing_cols['Gender'].unique()\n",
        "uniquevalues"
      ],
      "execution_count": null,
      "outputs": [
        {
          "output_type": "execute_result",
          "data": {
            "text/plain": [
              "array(['Male', 'Female', nan], dtype=object)"
            ]
          },
          "metadata": {},
          "execution_count": 191
        }
      ]
    },
    {
      "cell_type": "code",
      "metadata": {
        "colab": {
          "base_uri": "https://localhost:8080/"
        },
        "id": "bEGfUZnkluFk",
        "outputId": "ed3b7605-0402-4d5f-9167-55506c566bc0"
      },
      "source": [
        "##checking the unique values inside of the food column\n",
        "uniquevalues2 = choosing_cols['Food'].unique()\n",
        "uniquevalues2"
      ],
      "execution_count": null,
      "outputs": [
        {
          "output_type": "execute_result",
          "data": {
            "text/plain": [
              "array(['Traditional food', 'Western Food'], dtype=object)"
            ]
          },
          "metadata": {},
          "execution_count": 192
        }
      ]
    },
    {
      "cell_type": "code",
      "metadata": {
        "colab": {
          "base_uri": "https://localhost:8080/"
        },
        "id": "t3GZuEYhl43y",
        "outputId": "e06dcf95-45ce-487d-9267-27792efc96a0"
      },
      "source": [
        "##counting  the null values and values in the column gender\n",
        "choosing_cols['Gender'].value_counts(dropna=False)"
      ],
      "execution_count": null,
      "outputs": [
        {
          "output_type": "execute_result",
          "data": {
            "text/plain": [
              "Female    165\n",
              "Male      119\n",
              "NaN         4\n",
              "Name: Gender, dtype: int64"
            ]
          },
          "metadata": {},
          "execution_count": 193
        }
      ]
    },
    {
      "cell_type": "code",
      "metadata": {
        "colab": {
          "base_uri": "https://localhost:8080/"
        },
        "id": "D7oYGblnmHha",
        "outputId": "dc69cd14-b8c6-403f-95f2-4e23bf57313b"
      },
      "source": [
        "##counting  the null values and values in the column gender\n",
        "choosing_cols['Food'].value_counts(dropna=False)"
      ],
      "execution_count": null,
      "outputs": [
        {
          "output_type": "execute_result",
          "data": {
            "text/plain": [
              "Traditional food    238\n",
              "Western Food         50\n",
              "Name: Food, dtype: int64"
            ]
          },
          "metadata": {},
          "execution_count": 194
        }
      ]
    },
    {
      "cell_type": "code",
      "metadata": {
        "colab": {
          "base_uri": "https://localhost:8080/"
        },
        "id": "2FufaqNWvDgR",
        "outputId": "4f5aaccb-e1e8-4812-98d7-87332c4cafaa"
      },
      "source": [
        "##removing rows that contains null values\n",
        "choosing_cols['Gender'].dropna()"
      ],
      "execution_count": null,
      "outputs": [
        {
          "output_type": "execute_result",
          "data": {
            "text/plain": [
              "0        Male\n",
              "1      Female\n",
              "2        Male\n",
              "3      Female\n",
              "4        Male\n",
              "        ...  \n",
              "283      Male\n",
              "284      Male\n",
              "285      Male\n",
              "286      Male\n",
              "287      Male\n",
              "Name: Gender, Length: 284, dtype: object"
            ]
          },
          "metadata": {},
          "execution_count": 195
        }
      ]
    },
    {
      "cell_type": "markdown",
      "metadata": {
        "id": "D3KujBgVSkvV"
      },
      "source": [
        "### 3)Data Analysis:"
      ]
    },
    {
      "cell_type": "code",
      "metadata": {
        "colab": {
          "base_uri": "https://localhost:8080/",
          "height": 143
        },
        "id": "yU5E_f9xqGqv",
        "outputId": "84a5c91a-f3ff-4ba1-f4d3-3d76d7a7c359"
      },
      "source": [
        "##aggregating the data between both columns\n",
        "creating_crosstab = pd.crosstab(choosing_cols['Food'],choosing_cols['Gender'])\n",
        "creating_crosstab"
      ],
      "execution_count": null,
      "outputs": [
        {
          "output_type": "execute_result",
          "data": {
            "text/html": [
              "<div>\n",
              "<style scoped>\n",
              "    .dataframe tbody tr th:only-of-type {\n",
              "        vertical-align: middle;\n",
              "    }\n",
              "\n",
              "    .dataframe tbody tr th {\n",
              "        vertical-align: top;\n",
              "    }\n",
              "\n",
              "    .dataframe thead th {\n",
              "        text-align: right;\n",
              "    }\n",
              "</style>\n",
              "<table border=\"1\" class=\"dataframe\">\n",
              "  <thead>\n",
              "    <tr style=\"text-align: right;\">\n",
              "      <th>Gender</th>\n",
              "      <th>Female</th>\n",
              "      <th>Male</th>\n",
              "    </tr>\n",
              "    <tr>\n",
              "      <th>Food</th>\n",
              "      <th></th>\n",
              "      <th></th>\n",
              "    </tr>\n",
              "  </thead>\n",
              "  <tbody>\n",
              "    <tr>\n",
              "      <th>Traditional food</th>\n",
              "      <td>144</td>\n",
              "      <td>90</td>\n",
              "    </tr>\n",
              "    <tr>\n",
              "      <th>Western Food</th>\n",
              "      <td>21</td>\n",
              "      <td>29</td>\n",
              "    </tr>\n",
              "  </tbody>\n",
              "</table>\n",
              "</div>"
            ],
            "text/plain": [
              "Gender            Female  Male\n",
              "Food                          \n",
              "Traditional food     144    90\n",
              "Western Food          21    29"
            ]
          },
          "metadata": {},
          "execution_count": 196
        }
      ]
    },
    {
      "cell_type": "markdown",
      "metadata": {
        "id": "vSJf74uCSwZE"
      },
      "source": [
        "### 4)Data Visualization:"
      ]
    },
    {
      "cell_type": "code",
      "metadata": {
        "colab": {
          "base_uri": "https://localhost:8080/",
          "height": 365
        },
        "id": "zYAHDPM6tN5L",
        "outputId": "a82680a0-3681-4129-9386-6bff518efd3f"
      },
      "source": [
        "##visualizing the data by using the bar plot\n",
        "creating_crosstab.plot.bar()"
      ],
      "execution_count": null,
      "outputs": [
        {
          "output_type": "execute_result",
          "data": {
            "text/plain": [
              "<matplotlib.axes._subplots.AxesSubplot at 0x7fa1789fb4d0>"
            ]
          },
          "metadata": {},
          "execution_count": 201
        },
        {
          "output_type": "display_data",
          "data": {
            "image/png": "[encoded data removed]",
            "text/plain": [
              "<Figure size 432x288 with 1 Axes>"
            ]
          },
          "metadata": {
            "needs_background": "light"
          }
        }
      ]
    }
  ]
}